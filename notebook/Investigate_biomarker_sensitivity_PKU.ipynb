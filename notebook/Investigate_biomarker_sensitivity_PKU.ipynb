{
 "cells": [
  {
   "cell_type": "markdown",
   "metadata": {},
   "source": [
    "# Illustration of the sensitivity of the flux-variability biomarker prediction on PKU \n",
    "Original publication: http://doi.org/10.1038/msb.2009.22\n",
    "\n",
    "Thierry D.G.A. Mondeel, Vivian Ogundipe & Hans V. Westerhoff <br>\n",
    "Unversity of Amsterdam  <br>\n",
    "October 2017\n",
    "\n",
    "Our implementation of the flux-variability biomarker prediction method allows for alteration of various settings and parameters. Here we show how these settings in the biomarker prediction algorithm lead to changing predictions. \n",
    "\n",
    "---"
   ]
  },
  {
   "cell_type": "markdown",
   "metadata": {},
   "source": [
    "We start by importing Recon 1 and 2.2 and define the proteinogenic amino acids as the potential biomarkers to search for."
   ]
  },
  {
   "cell_type": "code",
   "execution_count": 1,
   "metadata": {
    "collapsed": true
   },
   "outputs": [],
   "source": [
    "import cobra\n",
    "import pandas as pd\n",
    "pd.set_option('display.max_colwidth', -1)\n",
    "\n",
    "import xlrd\n",
    "\n",
    "from findBiomarkers import findBiomarkers\n",
    "\n",
    "\n",
    "# import Recon 1 and 2.2\n",
    "M = cobra.io.load_json_model(\"../data/RECON1.json\") # from BiGG\n",
    "M22 = cobra.io.load_json_model(\"../data/RECON_2_2.json\") # from the Recon 2.2 publication\n",
    "M22.id = 'RECON2'\n",
    "\n",
    "for r in M22.reactions:\n",
    "    if '_lp_' in r.id:\n",
    "        s = r.id.replace('_lp','')\n",
    "        s = s.replace('_rp_','')\n",
    "        # print r.id,s\n",
    "        r.id = s\n",
    "    \n",
    "M22.repair()\n",
    "\n",
    "# List of amino acid exhange reactions in RECON 1 and 2 (the IDs differ)\n",
    "essentialAA = ['EX_his__L_e','EX_ile__L_e','EX_leu__L_e','EX_lys__L_e','EX_met__L_e','EX_phe__L_e',\n",
    "               'EX_thr__L_e','EX_trp__L_e','EX_val__L_e']\n",
    "nonEssentialAA = ['EX_cys__L_e','EX_glu__L_e','EX_tyr__L_e','EX_ala__L_e','EX_asp__L_e','EX_gly_e',\n",
    "                  'EX_arg__L_e','EX_gln__L_e','EX_pro__L_e','EX_ser__L_e','EX_asn__L_e']\n",
    "rxnsOfInterest = [essentialAA,nonEssentialAA]\n",
    "rxnsOfInterest = [ item for sublist in rxnsOfInterest for item in sublist ]\n",
    "\n",
    "essentialAA2 = ['EX_his_L_e','EX_ile_L_e','EX_leu_L_e','EX_lys_L_e','EX_met_L_e','EX_phe_L_e',\n",
    "               'EX_thr_L_e','EX_trp_L_e','EX_val_L_e']\n",
    "nonEssentialAA2 = ['EX_cys_L_e','EX_glu_L_e','EX_tyr_L_e','EX_ala_L_e','EX_asp_L_e','EX_gly_e',\n",
    "                  'EX_arg_L_e','EX_gln_L_e','EX_pro_L_e','EX_ser_L_e','EX_asn_L_e']\n",
    "rxnsOfInterest2 = [essentialAA2,nonEssentialAA2]\n",
    "rxnsOfInterest2 = [ item for sublist in rxnsOfInterest2 for item in sublist ]"
   ]
  },
  {
   "cell_type": "markdown",
   "metadata": {},
   "source": [
    "## Finding appropriate reactions to inactivate for PKU in Recon 1 and Recon 2.2\n",
    "we construct dictionaries that map IEMs to genes in the three models.\n",
    "\n",
    "Shlomi et al. included as supplementary information with their publication an Excel file that links IEMs to reactions."
   ]
  },
  {
   "cell_type": "code",
   "execution_count": 2,
   "metadata": {
    "collapsed": true,
    "scrolled": false
   },
   "outputs": [],
   "source": [
    "IEMinfo = pd.read_excel('../data/IEM_compendium.xlsx', sheet_name='mappedIEMs supple table', header=0)\n",
    "\n",
    "# make a dictionary \n",
    "IEMdict = dict(zip(IEMinfo['disease (Mapped IEMs)'],IEMinfo['EntrezGeneID'] )) \n",
    "        \n",
    "# get the actual gene string names from Recon1\n",
    "for iem in IEMdict:\n",
    "    genelist = IEMdict[iem]\n",
    "    if type(genelist) is not list:\n",
    "        genelist = [genelist]\n",
    "\n",
    "    IEMdict[iem] = list(set([ x for x in [gene.id for gene in M.genes] for y in genelist if x.find(str(y)+'_') != -1 ]))\n"
   ]
  },
  {
   "cell_type": "markdown",
   "metadata": {},
   "source": [
    "In Recon 1, PKU is associated with gene ID"
   ]
  },
  {
   "cell_type": "code",
   "execution_count": 3,
   "metadata": {},
   "outputs": [
    {
     "data": {
      "text/plain": [
       "['5053_AT1']"
      ]
     },
     "execution_count": 3,
     "metadata": {},
     "output_type": "execute_result"
    }
   ],
   "source": [
    "IEMdict['phenylketonuria']"
   ]
  },
  {
   "cell_type": "markdown",
   "metadata": {},
   "source": [
    "Mapped to Recon 2, this ID is:"
   ]
  },
  {
   "cell_type": "code",
   "execution_count": 4,
   "metadata": {},
   "outputs": [
    {
     "data": {
      "text/plain": [
       "'HGNC:8582'"
      ]
     },
     "execution_count": 4,
     "metadata": {},
     "output_type": "execute_result"
    }
   ],
   "source": [
    "mapping_recon2_genes = pd.read_csv('../data/hgnc_to_entrez.txt',sep='\\t')\n",
    "mapping_recon2_genes = dict(zip(mapping_recon2_genes['Entrez Gene ID'],mapping_recon2_genes['HGNC ID']))\n",
    "mapping_recon2_genes[5053]"
   ]
  },
  {
   "cell_type": "markdown",
   "metadata": {},
   "source": [
    "The reactions these are associated with in Recon 1 and 2 are"
   ]
  },
  {
   "cell_type": "code",
   "execution_count": 5,
   "metadata": {},
   "outputs": [
    {
     "data": {
      "text/plain": [
       "(['PHETHPTOX2'], ['r0399', 'PHETHPTOX2'])"
      ]
     },
     "execution_count": 5,
     "metadata": {},
     "output_type": "execute_result"
    }
   ],
   "source": [
    "R1_rxns = [r.id for r in M.genes.get_by_id('5053_AT1').reactions]\n",
    "R2_rxns = [r.id for r in M22.genes.get_by_id('HGNC:8582').reactions]\n",
    "\n",
    "R1_rxns, R2_rxns"
   ]
  },
  {
   "cell_type": "markdown",
   "metadata": {},
   "source": [
    "## Set the medium to 1 inward and 1000 outward for all exchanges"
   ]
  },
  {
   "cell_type": "code",
   "execution_count": 6,
   "metadata": {},
   "outputs": [
    {
     "data": {
      "text/plain": [
       "(430, 746)"
      ]
     },
     "execution_count": 6,
     "metadata": {},
     "output_type": "execute_result"
    }
   ],
   "source": [
    "# Note: exchange reactions are pseudo-reactions of the form: 'X_e <=> '\n",
    "exchanges = [ rxn for rxn in M.reactions if len(rxn.products) == 0]\n",
    "exchanges2 = [ rxn for rxn in M22.reactions if len(rxn.products) == 0]\n",
    "\n",
    "# all inward to 1\n",
    "# all outward to 1000\n",
    "for rxn in exchanges:\n",
    "    rxn.lower_bound = -1\n",
    "for rxn in exchanges:\n",
    "        rxn.upper_bound = 1000\n",
    "        \n",
    "for rxn in exchanges2:\n",
    "    rxn.lower_bound = -1\n",
    "for rxn in exchanges2:\n",
    "        rxn.upper_bound = 1000\n",
    "        \n",
    "M22.medium;\n",
    "len(exchanges), len(exchanges2)"
   ]
  },
  {
   "cell_type": "markdown",
   "metadata": {},
   "source": [
    "## Sensitivity to network RECON 1 vs. RECON 2.2\n",
    "Recon 1 finds both Tyrosine and Phenylalanine"
   ]
  },
  {
   "cell_type": "code",
   "execution_count": null,
   "metadata": {
    "collapsed": true
   },
   "outputs": [],
   "source": [
    "model = M.copy()\n",
    "T1 = findBiomarkers(model,fvaRxns=rxnsOfInterest,mods=R1_rxns)\n",
    "T1"
   ]
  },
  {
   "cell_type": "markdown",
   "metadata": {},
   "source": [
    "Recon 2.2 does not find Tyrosine due to bad gene-mapping"
   ]
  },
  {
   "cell_type": "code",
   "execution_count": null,
   "metadata": {
    "collapsed": true
   },
   "outputs": [],
   "source": [
    "model = M22.copy()\n",
    "T = findBiomarkers(model,fvaRxns=rxnsOfInterest2,mods=R2_rxns)\n",
    "T"
   ]
  },
  {
   "cell_type": "markdown",
   "metadata": {},
   "source": [
    "## Sensitivity to blocking reactions in sequence or simultaneously\n",
    "In synchronous mode Recon 2.2 does find Tyrosine. Note that in the mutant Tyrosine may still be produced. "
   ]
  },
  {
   "cell_type": "code",
   "execution_count": null,
   "metadata": {
    "collapsed": true
   },
   "outputs": [],
   "source": [
    "model = M22.copy()\n",
    "T = findBiomarkers(model,fvaRxns=rxnsOfInterest2,mods=R2_rxns,synchronous=True)\n",
    "T"
   ]
  },
  {
   "cell_type": "markdown",
   "metadata": {},
   "source": [
    "## Sensitivity to medium choice\n",
    "When blocking uptake of 34hpp the Tyrosine production in the mutant disappears."
   ]
  },
  {
   "cell_type": "code",
   "execution_count": null,
   "metadata": {
    "collapsed": true
   },
   "outputs": [],
   "source": [
    "model = M22.copy()\n",
    "model.reactions.EX_34hpp_.lower_bound = 0\n",
    "\n",
    "T = findBiomarkers(model,fvaRxns=rxnsOfInterest2,mods=R2_rxns,synchronous=True)\n",
    "T"
   ]
  },
  {
   "cell_type": "markdown",
   "metadata": {},
   "source": [
    "When increasing the 34hpp uptake rate Tyrosine slips below the cutoff. We here show this by lowering the threshold using the appropriate parameter in our implementation."
   ]
  },
  {
   "cell_type": "code",
   "execution_count": null,
   "metadata": {
    "collapsed": true
   },
   "outputs": [],
   "source": [
    "model = M22.copy()\n",
    "model.reactions.EX_34hpp_.lower_bound = -20\n",
    "T = findBiomarkers(model,fvaRxns=rxnsOfInterest2,mods=R2_rxns,threshold=0.01,synchronous=True)\n",
    "T"
   ]
  },
  {
   "cell_type": "code",
   "execution_count": null,
   "metadata": {
    "collapsed": true
   },
   "outputs": [],
   "source": []
  }
 ],
 "metadata": {
  "kernelspec": {
   "display_name": "Python 3",
   "language": "python",
   "name": "python3"
  },
  "language_info": {
   "codemirror_mode": {
    "name": "ipython",
    "version": 3
   },
   "file_extension": ".py",
   "mimetype": "text/x-python",
   "name": "python",
   "nbconvert_exporter": "python",
   "pygments_lexer": "ipython3",
   "version": "3.6.1"
  },
  "toc": {
   "nav_menu": {},
   "number_sections": true,
   "sideBar": true,
   "skip_h1_title": false,
   "toc_cell": false,
   "toc_position": {},
   "toc_section_display": "block",
   "toc_window_display": false
  }
 },
 "nbformat": 4,
 "nbformat_minor": 1
}
