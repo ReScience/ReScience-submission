{
 "cells": [
  {
   "cell_type": "code",
   "execution_count": 4,
   "metadata": {
    "collapsed": true
   },
   "outputs": [],
   "source": [
    "import numpy as np\n",
    "import random\n",
    "import matplotlib.pyplot as plt\n",
    "import matplotlib\n",
    "\n",
    "# There are four different probabilities p for positive outcomes (r = 1). The probability for negative outcomes (r = -1) is therefore 1-p.\n",
    "ProbabilityOfPositiveOutcome = np.array([.1, .2, .8, .9]) \n",
    "\n",
    "# The task lasts for 800 trials for each probability and there are 5,000 iterations.\n",
    "NumberOfTrials = 800\n",
    "NumberOfIterations = 5000"
   ]
  },
  {
   "cell_type": "code",
   "execution_count": 5,
   "metadata": {
    "collapsed": false
   },
   "outputs": [],
   "source": [
    "# LearnerIdx refers to the identity of the learner: 0 for optimistic, 1 for rational and 2 for pessimistic\n",
    "for learnerIdx in range(3):\n",
    "\n",
    "\t# For the optimistic learner, the postive learning rate is set at 0.4, and the negative one at 0.1.\n",
    "\tif learnerIdx == 0:\n",
    "\t\talphaPos, alphaNeg = .4, .1\n",
    "\n",
    "\t# For the rational learner, both positive and negative learning rates are set to 0.\n",
    "\telif learnerIdx == 1:\n",
    "\t\talphaPos, alphaNeg = .1, .1\n",
    "\n",
    "\t# For the pessimistic learner, the postive learning rate is set at 0.4, and the negative one at 0.1.\n",
    "\telse:\n",
    "\t\talphaPos, alphaNeg = .1, .4\n",
    "\n",
    "\t# The initial value of Qs is set to 0.\n",
    "\tQ = np.zeros((NumberOfIterations, len(ProbabilityOfPositiveOutcome)))\n",
    "\n",
    "\t# ConditionIdx refers to the different possible probabilities for positive outcomes\n",
    "\tfor conditionIdx in range(len(ProbabilityOfPositiveOutcome)):\n",
    "\n",
    "\t\tNumberOfPositiveOutcomes = int(ProbabilityOfPositiveOutcome[conditionIdx] * NumberOfTrials)\n",
    "\t\tNumberOfNegativeOutcomes = NumberOfTrials - NumberOfPositiveOutcomes\n",
    "\n",
    "\t\tfor iterationIdx in range(NumberOfIterations):\n",
    "\n",
    "\t\t\t# We create a vector for the outcomes (r = 1 or r = -1) that will be observed on each trial\n",
    "\t\t\tOutcomes = np.concatenate((np.ones((NumberOfPositiveOutcomes,), dtype=np.int), - np.ones((NumberOfNegativeOutcomes,), dtype=np.int)))\n",
    "\t\t\trandom.shuffle(Outcomes)\n",
    "\n",
    "\t\t\tfor t in range(NumberOfTrials):\n",
    "\t\t\t\tdeltaQ = Outcomes[t] - Q[iterationIdx, conditionIdx]\n",
    "\t\t\t\tQ[iterationIdx, conditionIdx] += alphaPos * deltaQ * (deltaQ >= 0) + alphaNeg * deltaQ * (deltaQ < 0) \n",
    "\n",
    "\tif learnerIdx == 0:\n",
    "\t\tmeanQoptimistic,  varQoptimistic  = np.mean(Q, axis=0), np.var(Q,  axis=0)\n",
    "\telif learnerIdx == 1:\n",
    "\t\tmeanQrational,    varQrational    = np.mean(Q, axis=0), np.var(Q,  axis=0)\n",
    "\telse:\n",
    "\t\tmeanQpessimistic, varQpessimistic = np.mean(Q, axis=0), np.var(Q,  axis=0)"
   ]
  },
  {
   "cell_type": "code",
   "execution_count": 6,
   "metadata": {
    "collapsed": false
   },
   "outputs": [
    {
     "data": {
      "image/png": "[encoded data removed]",
      "text/plain": [
       "<matplotlib.figure.Figure at 0x10fe24b00>"
      ]
     },
     "metadata": {},
     "output_type": "display_data"
    }
   ],
   "source": [
    "# We now draw the figure 1.\n",
    "TrueValuesOfQ = [-.8, -.6, .6, .8]\n",
    "for i in range(4):\n",
    "\tplt.errorbar([0,1,2],[meanQpessimistic[i], meanQrational[i], meanQoptimistic[i]], \n",
    "             [varQpessimistic[i], varQrational[i], varQoptimistic[i]], marker='o', color = 'k', capsize = 4, antialiased=True)\n",
    "\tplt.plot([-.5, 2.5], [TrueValuesOfQ[i], TrueValuesOfQ[i]], 'k:', antialiased=True)\n",
    "\n",
    "plt.axis([-.5, 2.5, -1, 1])\n",
    "\n",
    "plt.locator_params(axis='y',nbins=5)\n",
    "plt.ylabel(r'Q$\\infty$',rotation=0)\n",
    "                          \n",
    "plt.xticks([0, 1, 2], ('0.25', '1', '4'))\n",
    "plt.xlabel(r'$\\alpha^+/ \\alpha^-$')\n",
    "\n",
    "plt.savefig('Figure1.png', dpi=150)\n",
    "plt.show()"
   ]
  },
  {
   "cell_type": "code",
   "execution_count": null,
   "metadata": {
    "collapsed": true
   },
   "outputs": [],
   "source": []
  }
 ],
 "metadata": {
  "kernelspec": {
   "display_name": "Python 3",
   "language": "python",
   "name": "python3"
  },
  "language_info": {
   "codemirror_mode": {
    "name": "ipython",
    "version": 3
   },
   "file_extension": ".py",
   "mimetype": "text/x-python",
   "name": "python",
   "nbconvert_exporter": "python",
   "pygments_lexer": "ipython3",
   "version": "3.6.0"
  }
 },
 "nbformat": 4,
 "nbformat_minor": 2
}
