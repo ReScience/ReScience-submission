{
 "cells": [
  {
   "cell_type": "code",
   "execution_count": 1,
   "metadata": {
    "collapsed": false
   },
   "outputs": [],
   "source": [
    "# Here we do the simulations for the Figure 4A\n",
    "\n",
    "import numpy as np\n",
    "import random\n",
    "import matplotlib.pyplot as plt\n",
    "import matplotlib.gridspec as gridspec\n",
    "\n",
    "# There are four different probabilities p for positive outcomes (r = 1). The probability for negative outcomes (r = -1) is therefore 1-p.\n",
    "# In the \"low-reward\" task, the best action has a probability for a positive outcome of 0.2, and the other action of 0.1. \n",
    "# In the \"high-reward' task, these two probabilities are 0.9 and 0.8.\n",
    "ProbabilityOfPositiveOutcome = np.array([.75, .25]) \n",
    "\n",
    "# Each task lasts for 800 trials and there are 5,000 iterations.\n",
    "NumberOfTrials = 800\n",
    "NumberOfIterations = 5000\n",
    "\n",
    "# The temperature parameter beta is set to 0.3 for all three learners (optimistic, rational and pessimistic).\n",
    "beta = 0.3"
   ]
  },
  {
   "cell_type": "code",
   "execution_count": 2,
   "metadata": {
    "collapsed": false
   },
   "outputs": [],
   "source": [
    "# LearnerIdx refers to the identity of the learner.\n",
    "for learnerIdx in range(4):\n",
    "\n",
    "    if learnerIdx == 0:\n",
    "        alphaPos, alphaNeg = .4, .1 # Optimistic learner\n",
    "    elif learnerIdx == 1:\n",
    "        alphaPos, alphaNeg = .1, .1 # Rational learner\n",
    "    elif learnerIdx == 2:\n",
    "        alphaPos, alphaNeg = .1, .4 # Pessimistic learner        \n",
    "    else:\n",
    "        w = .1 # Meta-learner \n",
    "\n",
    "    # We will compute the performance on each trial for all the iterations\n",
    "    performance = np.nan * np.ones((NumberOfTrials, NumberOfIterations))\n",
    "\n",
    "    NumberOfPositiveOutcomesBestAction = int(ProbabilityOfPositiveOutcome[0] * NumberOfTrials)\n",
    "    NumberOfNegativeOutcomesBestAction = NumberOfTrials - NumberOfPositiveOutcomesBestAction\n",
    "\n",
    "    NumberOfPositiveOutcomesWorstAction = int(ProbabilityOfPositiveOutcome[1] * NumberOfTrials)\n",
    "    NumberOfNegativeOutcomesWorstAction = NumberOfTrials - NumberOfPositiveOutcomesWorstAction        \n",
    "\n",
    "    for iterationIdx in range(NumberOfIterations):\n",
    "\n",
    "        # The initial Q-values are set to 0. (The first element is the Q-value associated with the worst action, and the second with the best action.)\n",
    "        Q = np.zeros(2)\n",
    "\n",
    "        # We create a vector for the outcomes (r = 1 or r = -1) that will be observed on each trial\n",
    "        OutcomesBestAction = np.concatenate((np.ones((NumberOfPositiveOutcomesBestAction,), dtype=np.int), - np.ones((NumberOfNegativeOutcomesBestAction,), dtype=np.int)))\n",
    "        random.shuffle(OutcomesBestAction)\n",
    "\n",
    "        OutcomesWorstAction = np.concatenate((np.ones((NumberOfPositiveOutcomesWorstAction,), dtype=np.int), - np.ones((NumberOfNegativeOutcomesWorstAction,), dtype=np.int)))\n",
    "        random.shuffle(OutcomesWorstAction) \n",
    "\n",
    "        Outcomes = np.nan * np.ones(NumberOfTrials)\n",
    "\n",
    "        for t in range(NumberOfTrials):\n",
    "\n",
    "            ProbabilityToChooseBestAction = 1/(1+np.exp((Q[0]-Q[1])/beta))\n",
    "            if random.random() < ProbabilityToChooseBestAction:\n",
    "                action = 1 # the chosen action is the best one.\n",
    "                Outcomes[t] = OutcomesBestAction[t]\n",
    "            else:\n",
    "                action = 0 # the chosen action is the worst one.\n",
    "                Outcomes[t] = OutcomesWorstAction[t]\n",
    "            performance[t, iterationIdx] = action\n",
    "\n",
    "            deltaQ = Outcomes[t] - Q[action]\n",
    "            if learnerIdx < 3: # The update rule for the optimistic, rational and pessimistic learner\n",
    "                Q[action] += alphaPos * deltaQ * (deltaQ >= 0) + alphaNeg * deltaQ * (deltaQ < 0)\n",
    "            else: # The update rule for the meta-learner\n",
    "                if t == 0:\n",
    "                    ProbaReward = .5\n",
    "                else:\n",
    "                    ProbaReward = (np.mean(Outcomes[:t]) + 1)/2\n",
    "                alphaPos = w * (1 - ProbaReward)\n",
    "                alphaNeg = w * ProbaReward\n",
    "                Q[action] += alphaPos * deltaQ * (deltaQ >= 0) + alphaNeg * deltaQ * (deltaQ < 0)\n",
    "\n",
    "    if learnerIdx == 0:\n",
    "        meanPerformanceOptimistic = np.mean(performance, axis=1)\n",
    "    elif learnerIdx == 1:\n",
    "        meanPerformanceRational = np.mean(performance, axis=1)\n",
    "    elif learnerIdx == 2:\n",
    "        meanPerformancePessimistic = np.mean(performance, axis=1)\n",
    "    else:\n",
    "        meanPerformanceMetaLearner = np.mean(performance, axis=1)\n"
   ]
  },
  {
   "cell_type": "code",
   "execution_count": 3,
   "metadata": {
    "collapsed": false
   },
   "outputs": [
    {
     "data": {
      "text/plain": [
       "Text(0.62,0.64,'Pessimistic')"
      ]
     },
     "execution_count": 3,
     "metadata": {},
     "output_type": "execute_result"
    }
   ],
   "source": [
    "# We now draw the figure 4A:\n",
    "plt.figure(4)\n",
    "\n",
    "plt.subplot(3,2,1)\n",
    "plt.plot(meanPerformanceOptimistic, 'g', linewidth=1)\n",
    "plt.plot(meanPerformanceRational, 'b', linewidth=1)\n",
    "plt.plot(meanPerformancePessimistic, 'r', linewidth=1) \n",
    "plt.plot(meanPerformanceMetaLearner, 'm', linewidth=1)\n",
    "\n",
    "plt.axis([0, 800, .45, 1])\n",
    "\n",
    "plt.yticks([.5, 1.0])\n",
    "plt.ylabel('P(best choice)')\n",
    "\n",
    "plt.xticks([100, 800])\n",
    "plt.xlabel('Episodes')\n",
    "\n",
    "# Here I insert the texts around the figure:\n",
    "plt.text(100, 0.68,'p(reward|arm#1) = 0.25')\n",
    "plt.text(100, 0.55,'p(reward|arm#2) = 0.75')\n",
    "plt.text(0.01, 0.9, 'A', fontsize=14, weight='bold', transform=plt.gcf().transFigure)\n",
    "plt.text(0.01, 0.37, 'B', fontsize=14, weight='bold', transform=plt.gcf().transFigure)\n",
    "plt.text(0.62, 0.85, 'Meta-learner', fontsize=12, color = 'm', transform=plt.gcf().transFigure)\n",
    "plt.text(0.62, 0.78, 'Optimistic', fontsize=12, color = 'g', transform=plt.gcf().transFigure)\n",
    "plt.text(0.62, 0.71, 'Rational', fontsize=12, color = 'b', transform=plt.gcf().transFigure)\n",
    "plt.text(0.62, 0.64, 'Pessimistic', fontsize=12, color = 'r', transform=plt.gcf().transFigure)\n",
    "\n",
    "#plt.show()"
   ]
  },
  {
   "cell_type": "code",
   "execution_count": 4,
   "metadata": {
    "collapsed": true
   },
   "outputs": [],
   "source": [
    "# Now we start the simulations for Figure 4B:\n",
    "\n",
    "ProbabilityOfPositiveOutcome = np.matrix([[.2, .15, .1], [.9, .85, .8]])"
   ]
  },
  {
   "cell_type": "code",
   "execution_count": 5,
   "metadata": {
    "collapsed": true
   },
   "outputs": [],
   "source": [
    "for learnerIdx in range(4):\n",
    "\n",
    "    if learnerIdx == 0:\n",
    "        alphaPos, alphaNeg = .4, .1 # Optimistic learner\n",
    "    elif learnerIdx == 1:\n",
    "        alphaPos, alphaNeg = .1, .1 # Rational learner\n",
    "    elif learnerIdx == 2:\n",
    "        alphaPos, alphaNeg = .1, .4 # Pessimistic learner        \n",
    "    else:\n",
    "        w = .1 # Meta-learner \n",
    "\n",
    "    # We will compute the performance on each trial for all the iterations\n",
    "    performance = np.nan * np.ones((NumberOfTrials, NumberOfIterations, len(ProbabilityOfPositiveOutcome)))\n",
    "\n",
    "    # ConditionIdx refers to the task: 0 for the low-reward task, 1 for the high-reward task.\n",
    "    for conditionIdx in range(len(ProbabilityOfPositiveOutcome)):\n",
    "\n",
    "        NumberOfPositiveOutcomesBestAction = int(ProbabilityOfPositiveOutcome[conditionIdx, 0] * NumberOfTrials)\n",
    "        NumberOfPositiveOutcomesMiddleAction = int(ProbabilityOfPositiveOutcome[conditionIdx, 1] * NumberOfTrials)\n",
    "        NumberOfPositiveOutcomesWorstAction = int(ProbabilityOfPositiveOutcome[conditionIdx, 2] * NumberOfTrials)\n",
    "\n",
    "        for iterationIdx in range(NumberOfIterations):\n",
    "            \n",
    "            # The initial Q-values are set to 0. (The first element is the Q-value associated with the best action, and the second with the middle action and the third with the worst action.)\n",
    "            Q = np.zeros(3)\n",
    "\n",
    "            # We create a vector for the outcomes (r = 1 or r = -1) that will be observed on each trial\n",
    "            OutcomesBestAction = np.concatenate((np.ones((NumberOfPositiveOutcomesBestAction,), dtype=np.int), - np.ones((NumberOfTrials - NumberOfPositiveOutcomesBestAction,), dtype=np.int)))\n",
    "            random.shuffle(OutcomesBestAction)\n",
    "            OutcomesMiddleAction = np.concatenate((np.ones((NumberOfPositiveOutcomesMiddleAction,), dtype=np.int), - np.ones((NumberOfTrials - NumberOfPositiveOutcomesMiddleAction,), dtype=np.int)))\n",
    "            random.shuffle(OutcomesMiddleAction)\n",
    "            OutcomesWorstAction = np.concatenate((np.ones((NumberOfPositiveOutcomesWorstAction,), dtype=np.int), - np.ones((NumberOfTrials - NumberOfPositiveOutcomesWorstAction ,), dtype=np.int)))\n",
    "            random.shuffle(OutcomesWorstAction) \n",
    "            \n",
    "            Outcomes = np.nan * np.ones(NumberOfTrials)\n",
    "            \n",
    "            for t in range(NumberOfTrials):\n",
    "                \n",
    "                ProbabilityToChooseBestAction = [np.exp(Q[0]/beta), np.exp(Q[1]/beta), np.exp(Q[2]/beta)]/sum(np.exp(np.divide(Q, beta)))\n",
    "                randomNumber = random.random()\n",
    "                if randomNumber < ProbabilityToChooseBestAction[0]:\n",
    "                    action = 0 # the chosen action is the best one.\n",
    "                    Outcomes[t] = OutcomesWorstAction[t]\n",
    "                elif randomNumber < ProbabilityToChooseBestAction[0]+ProbabilityToChooseBestAction[1]:\n",
    "                    action = 1 # the chosen action is the middle one.\n",
    "                    Outcomes[t] = OutcomesMiddleAction[t]\n",
    "                else:\n",
    "                    action = 2 # the chosen action is the worst one.\n",
    "                    Outcomes[t] = OutcomesBestAction[t]                    \n",
    "                performance[t, iterationIdx, conditionIdx] = 0 * (action < 2) + 1 * (action == 2)\n",
    "                \n",
    "                deltaQ = Outcomes[t] - Q[action]\n",
    "                if learnerIdx < 3: # The update rule for the optimistic, rational and pessimistic learner\n",
    "                    Q[action] += alphaPos * deltaQ * (deltaQ >= 0) + alphaNeg * deltaQ * (deltaQ < 0)\n",
    "                else: # The update rule for the meta-learner\n",
    "                    if t == 0:\n",
    "                        ProbaReward = .5\n",
    "                    else:\n",
    "                        ProbaReward = (np.mean(Outcomes[:t]) + 1)/2\n",
    "                    alphaPos = w * (1 - ProbaReward)\n",
    "                    alphaNeg = w * ProbaReward\n",
    "                    Q[action] += alphaPos * deltaQ * (deltaQ >= 0) + alphaNeg * deltaQ * (deltaQ < 0)\n",
    "                               \n",
    "    if learnerIdx == 0:\n",
    "        meanPerformanceOptimisticLow, meanPerformanceOptimisticHigh = np.mean(performance[:,:,0], axis=1), np.mean(performance[:,:,1], axis=1)\n",
    "    elif learnerIdx == 1:\n",
    "        meanPerformanceRationalLow, meanPerformanceRationalHigh = np.mean(performance[:,:,0], axis=1), np.mean(performance[:,:,1], axis=1)\n",
    "    elif learnerIdx == 2:\n",
    "        meanPerformancePessimisticLow, meanPerformancePessimisticHigh = np.mean(performance[:,:,0], axis=1), np.mean(performance[:,:,1], axis=1)\n",
    "    else:\n",
    "        meanPerformanceMetaLearnerLow, meanPerformanceMetaLearnerHigh = np.mean(performance[:,:,0], axis=1), np.mean(performance[:,:,1], axis=1)"
   ]
  },
  {
   "cell_type": "code",
   "execution_count": 6,
   "metadata": {
    "collapsed": false
   },
   "outputs": [
    {
     "data": {
      "image/png": "[encoded data removed]",
      "text/plain": [
       "<matplotlib.figure.Figure at 0x10c5c8f28>"
      ]
     },
     "metadata": {},
     "output_type": "display_data"
    }
   ],
   "source": [
    "# The left panel of figure 4B:\n",
    "plt.subplot(3,2,5)\n",
    "plt.plot(meanPerformanceOptimisticLow, 'g', linewidth=1)\n",
    "plt.plot(meanPerformanceRationalLow, 'b', linewidth=1)\n",
    "plt.plot(meanPerformancePessimisticLow, 'r', linewidth=1) \n",
    "plt.plot(meanPerformanceMetaLearnerLow, 'm', linewidth=1)\n",
    "\n",
    "plt.title('Low reward')\n",
    "plt.axis([0, 800, .3, .6])\n",
    "\n",
    "plt.yticks([.3, .4, .5, .6])\n",
    "plt.ylabel('P(best choice)')\n",
    "\n",
    "plt.xticks([100, 800])\n",
    "plt.xlabel('Episodes')\n",
    "\n",
    "# The right panel of figure 4B:\n",
    "plt.subplot(3,2,6)\n",
    "plt.plot(meanPerformanceOptimisticHigh, 'g', linewidth=1)\n",
    "plt.plot(meanPerformanceRationalHigh, 'b', linewidth=1)\n",
    "plt.plot(meanPerformancePessimisticHigh, 'r', linewidth=1) \n",
    "plt.plot(meanPerformanceMetaLearnerHigh, 'm', linewidth=1)\n",
    "\n",
    "plt.title('High reward')\n",
    "plt.axis([0, 800, .3, .6])\n",
    "plt.yticks([.3, .4, .5, .6], ('','','',''))\n",
    "plt.xticks([100, 800])\n",
    "plt.xlabel('Episodes')\n",
    "\n",
    "plt.savefig('Figure4.png', dpi=150)\n",
    "plt.show()"
   ]
  },
  {
   "cell_type": "code",
   "execution_count": null,
   "metadata": {
    "collapsed": true
   },
   "outputs": [],
   "source": []
  }
 ],
 "metadata": {
  "kernelspec": {
   "display_name": "Python 3",
   "language": "python",
   "name": "python3"
  },
  "language_info": {
   "codemirror_mode": {
    "name": "ipython",
    "version": 3
   },
   "file_extension": ".py",
   "mimetype": "text/x-python",
   "name": "python",
   "nbconvert_exporter": "python",
   "pygments_lexer": "ipython3",
   "version": "3.6.0"
  }
 },
 "nbformat": 4,
 "nbformat_minor": 2
}
