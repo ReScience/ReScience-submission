{
 "cells": [
  {
   "cell_type": "markdown",
   "metadata": {},
   "source": [
    "This notebook contains all the code necessary to run the article's Fig. 1.\n",
    "\n",
    "A python file version of this notebook can be found in the code folder.\n",
    "\n",
    "Importing relevant modules:"
   ]
  },
  {
   "cell_type": "code",
   "execution_count": 1,
   "metadata": {
    "collapsed": false
   },
   "outputs": [],
   "source": [
    "import numpy as np\n",
    "import matplotlib.pyplot as plt\n",
    "import matplotlib\n",
    "import time\n",
    "import sys\n",
    "import os \n",
    "%matplotlib inline\n",
    "\n",
    "# Change directory to the code folder\n",
    "sys.path.append(\"../code\")\n",
    "\n",
    "# Functions to sample the diffusion-weighted gradient directions\n",
    "from dipy.core.sphere import disperse_charges, HemiSphere\n",
    "\n",
    "# Function to reconstruct the tables with the acquisition information\n",
    "from dipy.core.gradients import gradient_table\n",
    "\n",
    "# Functions to perform simulations based on multi-compartment models\n",
    "from dipy.sims.voxel import multi_tensor\n",
    "\n",
    "# Import Dipy's procedures to process diffusion tensor\n",
    "import dipy.reconst.dti as dti\n",
    "\n",
    "# Importing procedures to fit the free water elimination DTI model\n",
    "from functions import nls_fit_tensor"
   ]
  },
  {
   "cell_type": "markdown",
   "metadata": {},
   "source": [
    "Defining the acquisition parameters..."
   ]
  },
  {
   "cell_type": "code",
   "execution_count": 2,
   "metadata": {
    "collapsed": false
   },
   "outputs": [],
   "source": [
    "# Sample the spherical cordinates of 32 random diffusion-weighted\n",
    "# directions.\n",
    "n_pts = 32\n",
    "theta = np.pi * np.random.rand(n_pts)\n",
    "phi = 2 * np.pi * np.random.rand(n_pts)\n",
    "\n",
    "# Convert direction to cartesian coordinates. For this, Dipy's\n",
    "# class object HemiSphere is used. Since diffusion possess central\n",
    "# symmetric, this class object also projects the direction to an \n",
    "# Hemisphere. \n",
    "hsph_initial = HemiSphere(theta=theta, phi=phi)\n",
    "\n",
    "# By using a electrostatic potential energy algorithm, the directions\n",
    "# of the HemiSphere class object are moved util them are evenly\n",
    "# distributed in the Hemi-sphere\n",
    "hsph_updated, potential = disperse_charges(hsph_initial, 5000)\n",
    "directions = hsph_updated.vertices\n",
    "\n",
    "# Based on the evenly sampled directions, the acquistion parameters are\n",
    "# simulated. Vector bvals containts the information of the b-values\n",
    "# while matrix bvecs contains all gradient directions for all b-value repetitions.\n",
    "bvals = np.hstack((np.zeros(6), 500 * np.ones(n_pts), 1500 * np.ones(n_pts)))\n",
    "bvecs = np.vstack((np.zeros((6, 3)), directions, directions))\n",
    "\n",
    "# bvals and bvecs are converted according to Dipy's accepted format using\n",
    "# Dipy's function gradient_table\n",
    "gtab = gradient_table(bvals, bvecs)\n",
    "\n",
    "# The SNR is defined according to Hoy et al, 2014\n",
    "SNR = 40"
   ]
  },
  {
   "cell_type": "markdown",
   "metadata": {},
   "source": [
    "Defining the ground truth values for all simulations repetitions..."
   ]
  },
  {
   "cell_type": "code",
   "execution_count": 3,
   "metadata": {
    "collapsed": true
   },
   "outputs": [],
   "source": [
    "# Simulations are repeated for 11 free water volume fractions\n",
    "VF = np.linspace(0, 100, num=11)\n",
    "\n",
    "# The value of free water diffusion is set to its known value \n",
    "Dwater = 3e-3\n",
    "\n",
    "# Simulations are repeated for 5 levels of fractional anisotropy\n",
    "FA = np.array([0.71, 0.30, 0.22, 0.11, 0.])\n",
    "L1 = np.array([1.6e-3, 1.080e-3, 1.000e-3, 0.900e-3, 0.8e-03])\n",
    "L2 = np.array([0.5e-3, 0.695e-3, 0.725e-3, 0.763e-3, 0.8e-03])\n",
    "L3 = np.array([0.3e-3, 0.625e-3, 0.675e-3, 0.738e-3, 0.8e-03])\n",
    "\n",
    "# According to Hoy et al., simulations are repeated for 120 different\n",
    "# diffusion tensor directions (and each direction repeated 100 times).\n",
    "nDTdirs = 120\n",
    "nrep = 100\n",
    "\n",
    "# These directions are sampled using the same procedure used\n",
    "# to evenly sample the diffusion gradient directions\n",
    "theta = np.pi * np.random.rand(nDTdirs)\n",
    "phi = 2 * np.pi * np.random.rand(nDTdirs)\n",
    "hsph_initial = HemiSphere(theta=theta, phi=phi)\n",
    "hsph_updated, potential = disperse_charges(hsph_initial, 5000)\n",
    "DTdirs = hsph_updated.vertices"
   ]
  },
  {
   "cell_type": "markdown",
   "metadata": {},
   "source": [
    "Generating simulations"
   ]
  },
  {
   "cell_type": "code",
   "execution_count": 4,
   "metadata": {
    "collapsed": false
   },
   "outputs": [
    {
     "name": "stdout",
     "output_type": "stream",
     "text": [
      "100.000000%"
     ]
    }
   ],
   "source": [
    "# Initializing a matrix to save all synthetic diffusion-weighted\n",
    "# signals. Each dimension of this matrix corresponds to the number\n",
    "# of simulated FA levels, volume fractions, diffusion tensor\n",
    "# directions, and diffusion-weighted signals of the given\n",
    "# gradient table\n",
    "DWI_simulates = np.empty((FA.size, VF.size, nrep * nDTdirs,\n",
    "                          bvals.size))\n",
    "\n",
    "for fa_i in range(FA.size):\n",
    "\n",
    "    # selecting the diffusion eigenvalues for a given FA level\n",
    "    mevals = np.array([[L1[fa_i], L2[fa_i], L3[fa_i]],\n",
    "                       [Dwater, Dwater, Dwater]])\n",
    "\n",
    "    for vf_i in range(VF.size):\n",
    "\n",
    "        # estimating volume fractions for both simulations\n",
    "        # compartments\n",
    "        fractions = [100 - VF[vf_i], VF[vf_i]]\n",
    "\n",
    "        for di in range(nDTdirs):\n",
    "\n",
    "            # Select a diffusion tensor direction\n",
    "            d = DTdirs[di]\n",
    "\n",
    "            # Repeat simulations for the given directions\n",
    "            for s_i in np.arange(di * nrep, (di+1) * nrep):\n",
    "                # Multi-compartmental simulations are done using\n",
    "                # Dipy's function multi_tensor\n",
    "                signal, sticks = multi_tensor(gtab, mevals,\n",
    "                                              S0=100,\n",
    "                                              angles=[d, (1, 0, 0)],\n",
    "                                              fractions=fractions,\n",
    "                                              snr=SNR)\n",
    "                DWI_simulates[fa_i, vf_i, s_i, :] = signal\n",
    "    prog = (fa_i+1.0) / FA.size * 100\n",
    "    time.sleep(1)\n",
    "    sys.stdout.write(\"\\r%f%%\" % prog)\n",
    "    sys.stdout.flush()"
   ]
  },
  {
   "cell_type": "markdown",
   "metadata": {},
   "source": [
    "Fitting the free water DTI model"
   ]
  },
  {
   "cell_type": "code",
   "execution_count": 5,
   "metadata": {
    "collapsed": false
   },
   "outputs": [
    {
     "name": "stdout",
     "output_type": "stream",
     "text": [
      "This step took 1200.214000 seconds to run\n"
     ]
    },
    {
     "name": "stderr",
     "output_type": "stream",
     "text": [
      "functions.py:264: RuntimeWarning: overflow encountered in exp\n",
      "  y = (1-f) * np.exp(np.dot(design_matrix, tensor[:7])) + \\\n"
     ]
    }
   ],
   "source": [
    "# All simulations are fitted simultaneously using function nls_fit_tensor\n",
    "t0 = time.time()\n",
    "fw_params = nls_fit_tensor(gtab, DWI_simulates, Diso=Dwater)\n",
    "dt = time.time() - t0\n",
    "print(\"This step took %f seconds to run\" % dt)"
   ]
  },
  {
   "cell_type": "markdown",
   "metadata": {},
   "source": [
    "Compute FA and f-value statistics and save results"
   ]
  },
  {
   "cell_type": "code",
   "execution_count": 6,
   "metadata": {
    "collapsed": false
   },
   "outputs": [
    {
     "name": "stderr",
     "output_type": "stream",
     "text": [
      "C:\\Users\\Rafael\\Anaconda\\lib\\site-packages\\matplotlib\\collections.py:590: FutureWarning: elementwise comparison failed; returning scalar instead, but in the future will perform elementwise comparison\n",
      "  if self._edgecolors == str('face'):\n"
     ]
    },
    {
     "data": {
      "image/png": "[encoded data removed]",
      "text/plain": [
       "<matplotlib.figure.Figure at 0x8e89908>"
      ]
     },
     "metadata": {},
     "output_type": "display_data"
    }
   ],
   "source": [
    "fig, axs = plt.subplots(nrows=2, ncols=2, figsize=(10, 10))\n",
    "\n",
    "# Compute the tissue's diffusion tensor fractional anisotropy\n",
    "# using function fractional_anisotropy of Dipy's module dti\n",
    "fa = dti.fractional_anisotropy(fw_params[..., :3])\n",
    "f = fw_params[..., 12]\n",
    "\n",
    "# Initializing vectors for FA statistics\n",
    "median_fa = np.empty(VF.size)\n",
    "lower_p = np.empty(VF.size)\n",
    "upper_p = np.empty(VF.size)\n",
    "\n",
    "# Defining the colors of the figure\n",
    "colors = {0: 'r', 1: 'magenta', 2: 'black', 3: 'b', 4: 'g'}\n",
    "\n",
    "for fa_i in range(FA.size):\n",
    "    for vf_i in range(VF.size):\n",
    "\n",
    "        # Compute FA statistics for a given ground truth FA\n",
    "        # level and a water volume fraction\n",
    "        median_fa[vf_i] = np.median(fa[fa_i, vf_i, :])\n",
    "        p25, p75 = np.percentile(fa[fa_i, vf_i, :], [25, 75])\n",
    "        lower_p[vf_i] = median_fa[vf_i] - p25 \n",
    "        lower_p[vf_i] = p75 - median_fa[vf_i]\n",
    "\n",
    "    # Plot FA statistics as a function of the ground truth \n",
    "    # water volume fraction\n",
    "    axs[0, 0].errorbar(VF/100, median_fa, fmt='.',\n",
    "                       yerr=[lower_p, lower_p],\n",
    "                       color=colors[fa_i],\n",
    "                       ecolor=colors[fa_i],\n",
    "                       linewidth=1.0,\n",
    "                       label='$FA: %.2f$' % FA[fa_i])\n",
    "\n",
    "# Adjust properties of the first panel of the figure\n",
    "axs[0, 0].set_ylim([-0.1, 1.2])\n",
    "axs[0, 0].set_xlim([-0.1, 1.2])\n",
    "axs[0, 0].set_xlabel('Simulated f-value')\n",
    "axs[0, 0].set_ylabel('Estimated FA')\n",
    "axs[0, 0].legend(loc='center left', bbox_to_anchor=(1, 0.5))\n",
    "\n",
    "# Turn off the upper right panel since it is not used. \n",
    "axs[0, 1].axis('off')\n",
    "\n",
    "# Initializing vectors for volume fraction statistics\n",
    "median_f = np.empty(VF.size)\n",
    "lower_p = np.empty(VF.size)\n",
    "upper_p = np.empty(VF.size)\n",
    "\n",
    "\n",
    "for idx, fa_i in enumerate([0, 4]):\n",
    "    for vf_i in range(VF.size):\n",
    "\n",
    "        # Compute FA statistics for a given ground truth FA\n",
    "        # level and a water volume fraction. Note that only\n",
    "        # the extreme FA values are plotted.\n",
    "        median_f[vf_i] = np.median(f[fa_i, vf_i, :])\n",
    "        p25, p75 = np.percentile(f[fa_i, vf_i, :], [25, 75])\n",
    "        lower_p[vf_i] = median_f[vf_i] - p25 \n",
    "        lower_p[vf_i] = p75 - median_f[vf_i]\n",
    "\n",
    "    # Plot the water volume fraction statistics as a function \n",
    "    # of its ground truth value in a lower panel of the\n",
    "    # figure.\n",
    "    axs[1, idx].errorbar(VF/100, median_f, fmt='.',\n",
    "                         yerr=[lower_p, lower_p],\n",
    "                         color=colors[fa_i],\n",
    "                         ecolor=colors[fa_i],\n",
    "                         linewidth=3.0,\n",
    "                         label='$FA: %.2f$' % FA[fa_i])\n",
    "\n",
    "    # plot identity lines\n",
    "    axs[1, idx].plot([0, 1], [0, 1], 'b', label='Simulated f-value')\n",
    "    \n",
    "    # Adjust properties of a given lower panel of the figure\n",
    "    axs[1, idx].legend(loc='upper left')\n",
    "    axs[1, idx].set_ylim([-0.1, 1.2])\n",
    "    axs[1, idx].set_xlim([-0.1, 1.2])\n",
    "    axs[1, idx].set_xlabel('Simulated f-value')\n",
    "    axs[1, idx].set_ylabel('Estimated f-value')\n",
    "\n",
    "# Save figure\n",
    "fig.savefig('fwdti_simulations_1.png')"
   ]
  },
  {
   "cell_type": "markdown",
   "metadata": {},
   "source": [
    "Done"
   ]
  },
  {
   "cell_type": "code",
   "execution_count": null,
   "metadata": {
    "collapsed": true
   },
   "outputs": [],
   "source": []
  }
 ],
 "metadata": {
  "kernelspec": {
   "display_name": "Python 2",
   "language": "python",
   "name": "python2"
  },
  "language_info": {
   "codemirror_mode": {
    "name": "ipython",
    "version": 2
   },
   "file_extension": ".py",
   "mimetype": "text/x-python",
   "name": "python",
   "nbconvert_exporter": "python",
   "pygments_lexer": "ipython2",
   "version": "2.7.11"
  }
 },
 "nbformat": 4,
 "nbformat_minor": 0
}
