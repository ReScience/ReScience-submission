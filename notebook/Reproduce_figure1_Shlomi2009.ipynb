{
 "cells": [
  {
   "cell_type": "markdown",
   "metadata": {},
   "source": [
    "# This notebook reproduces the network and biomarker predictions in the example from (Schlomi,2009)\n",
    "Original publication: http://doi.org/10.1038/msb.2009.22\n",
    "\n",
    "Thierry D.G.A. Mondeel, Vivian Ogundipe & Hans V. Westerhoff <br>\n",
    "Unversity of Amsterdam  <br>\n",
    "October 2017\n",
    "\n",
    "\n",
    "The illustrative metabolic map used in Shlomi et al. Figure 1 is generated [here](./Build_illustrative_map_figure1_Shlomi2009.ipynb).\n",
    "\n",
    "For details on our approach and implementation see the ReScience manuscript."
   ]
  },
  {
   "cell_type": "code",
   "execution_count": null,
   "metadata": {
    "collapsed": true
   },
   "outputs": [],
   "source": [
    "import cobra\n",
    "import pandas as pd\n",
    "from findBiomarkers import findBiomarkers\n",
    "\n",
    "M = cobra.io.read_sbml_model('../data/model_shlomi2009_figure1.xml')"
   ]
  },
  {
   "cell_type": "markdown",
   "metadata": {},
   "source": [
    "Gather all exchange reactions and their identifiers"
   ]
  },
  {
   "cell_type": "code",
   "execution_count": null,
   "metadata": {
    "collapsed": true
   },
   "outputs": [],
   "source": [
    "# Note: exchange reactions are pseudo-reactions of the form: 'X_e <=> '\n",
    "exchanges = [ rxn for rxn in M.reactions if len(rxn.products) == 0 ]"
   ]
  },
  {
   "cell_type": "markdown",
   "metadata": {},
   "source": [
    "This table illustrates the results discussed in Figure 1 in Shlomi et al. We use the findBiomarkers function (available from this repository) which implements the algorithm proposed by Shlomi et al. For details see the original publication and the ReScience manuscript in this repository."
   ]
  },
  {
   "cell_type": "code",
   "execution_count": null,
   "metadata": {
    "collapsed": true
   },
   "outputs": [],
   "source": [
    "model = M.copy()\n",
    "findBiomarkers(model,fvaRxns=exchanges,mods=[model.reactions.R1.id],threshold=0)"
   ]
  },
  {
   "cell_type": "code",
   "execution_count": null,
   "metadata": {
    "collapsed": true
   },
   "outputs": [],
   "source": []
  }
 ],
 "metadata": {
  "kernelspec": {
   "display_name": "Python 3",
   "language": "python",
   "name": "python3"
  },
  "language_info": {
   "codemirror_mode": {
    "name": "ipython",
    "version": 3
   },
   "file_extension": ".py",
   "mimetype": "text/x-python",
   "name": "python",
   "nbconvert_exporter": "python",
   "pygments_lexer": "ipython3",
   "version": "3.6.1"
  },
  "toc": {
   "nav_menu": {},
   "number_sections": true,
   "sideBar": true,
   "skip_h1_title": false,
   "toc_cell": false,
   "toc_position": {},
   "toc_section_display": "block",
   "toc_window_display": false
  }
 },
 "nbformat": 4,
 "nbformat_minor": 1
}
