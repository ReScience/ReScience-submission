{
 "cells": [
  {
   "cell_type": "code",
   "execution_count": 1,
   "metadata": {
    "collapsed": false
   },
   "outputs": [],
   "source": [
    "import numpy as np\n",
    "import random\n",
    "import matplotlib.pyplot as plt\n",
    "import matplotlib.gridspec as gridspec\n",
    "\n",
    "# There are four different probabilities p for positive outcomes (r = 1). The probability for negative outcomes (r = -1) is therefore 1-p.\n",
    "# In the \"low-reward\" task, the best action has a probability for a positive outcome of 0.2, and the other action of 0.1. \n",
    "# In the \"high-reward' task, these two probabilities are 0.9 and 0.8.\n",
    "ProbabilityOfPositiveOutcome = np.matrix([[.2, .1], [.9, .8]])\n",
    "\n",
    "# Each task lasts for 800 trials and there are 5,000 iterations.\n",
    "NumberOfTrials = 800\n",
    "NumberOfIterations = 5000 #5000\n",
    "\n",
    "# The temperature parameter beta is set to 0.3 for all three learners (optimistic, rational and pessimistic).\n",
    "beta = 0.3"
   ]
  },
  {
   "cell_type": "code",
   "execution_count": 2,
   "metadata": {
    "collapsed": false
   },
   "outputs": [],
   "source": [
    "# LearnerIdx refers to the identity of the learner: 0 for optimistic, 1 for rational and 2 for pessimistic\n",
    "for learnerIdx in range(4):\n",
    "\n",
    "    # There are three rational learners with different learning rates:\n",
    "    if learnerIdx < 3:\n",
    "        alpha = .01 * (learnerIdx == 0) + .1 * (learnerIdx == 1) + .4 * (learnerIdx == 2)\n",
    "    # And a meta-learner with parameter w (instead of alpha):\n",
    "    else:\n",
    "        w = .1\n",
    "\n",
    "    # We will compute the performance on each trial for all the iterations\n",
    "    performance = np.nan * np.ones((NumberOfTrials, NumberOfIterations, len(ProbabilityOfPositiveOutcome)))\n",
    "\n",
    "    # ConditionIdx refers to the task: 0 for the low-reward task, 1 for the high-reward task.\n",
    "    for conditionIdx in range(len(ProbabilityOfPositiveOutcome)):\n",
    "\n",
    "        NumberOfPositiveOutcomesBestAction = int(ProbabilityOfPositiveOutcome[conditionIdx, 0] * NumberOfTrials)\n",
    "        NumberOfNegativeOutcomesBestAction = NumberOfTrials - NumberOfPositiveOutcomesBestAction\n",
    "        \n",
    "        NumberOfPositiveOutcomesWorstAction = int(ProbabilityOfPositiveOutcome[conditionIdx, 1] * NumberOfTrials)\n",
    "        NumberOfNegativeOutcomesWorstAction = NumberOfTrials - NumberOfPositiveOutcomesWorstAction        \n",
    "\n",
    "        for iterationIdx in range(NumberOfIterations):\n",
    "            \n",
    "            # The initial Q-values are set to 0. (The first element is the Q-value associated with the worst action, and the second with the best action.)\n",
    "            Q = np.zeros(2)\n",
    "\n",
    "            # We create a vector for the outcomes (r = 1 or r = -1) that will be observed on each trial\n",
    "            OutcomesBestAction = np.concatenate((np.ones((NumberOfPositiveOutcomesBestAction,), dtype=np.int), - np.ones((NumberOfNegativeOutcomesBestAction,), dtype=np.int)))\n",
    "            random.shuffle(OutcomesBestAction)\n",
    "\n",
    "            OutcomesWorstAction = np.concatenate((np.ones((NumberOfPositiveOutcomesWorstAction,), dtype=np.int), - np.ones((NumberOfNegativeOutcomesWorstAction,), dtype=np.int)))\n",
    "            random.shuffle(OutcomesWorstAction) \n",
    "            \n",
    "            Outcomes = np.nan * np.ones(NumberOfTrials)\n",
    "            \n",
    "            for t in range(NumberOfTrials):\n",
    "                \n",
    "                ProbabilityToChooseBestAction = 1/(1+np.exp((Q[0]-Q[1])/beta))\n",
    "                if random.random() < ProbabilityToChooseBestAction:\n",
    "                    action = 1 # the chosen action is the best one.\n",
    "                    Outcomes[t] = OutcomesBestAction[t]\n",
    "                else:\n",
    "                    action = 0 # the chosen action is the worst one.\n",
    "                    Outcomes[t] = OutcomesWorstAction[t]\n",
    "                performance[t, iterationIdx, conditionIdx] = action\n",
    "                \n",
    "                deltaQ = Outcomes[t] - Q[action]\n",
    "                if learnerIdx < 3:\n",
    "                    Q[action] += alpha * deltaQ\n",
    "                else:\n",
    "                    if t == 0:\n",
    "                        ProbaReward = .5\n",
    "                    else:\n",
    "                        ProbaReward = (np.mean(Outcomes[:t]) + 1)/2\n",
    "                    alphaPos = w * (1 - ProbaReward)\n",
    "                    alphaNeg = w * ProbaReward\n",
    "                    Q[action] += alphaPos * deltaQ * (deltaQ >= 0) + alphaNeg * deltaQ * (deltaQ < 0)\n",
    "\n",
    "    if learnerIdx == 0:\n",
    "        meanPerformanceRational1Low, meanPerformanceRational1High = np.mean(performance[:,:,0], axis=1), np.mean(performance[:,:,1], axis=1)\n",
    "    elif learnerIdx == 1:\n",
    "        meanPerformanceRational2Low, meanPerformanceRational2High = np.mean(performance[:,:,0], axis=1), np.mean(performance[:,:,1], axis=1)\n",
    "    elif learnerIdx == 2:\n",
    "        meanPerformanceRational3Low, meanPerformanceRational3High = np.mean(performance[:,:,0], axis=1), np.mean(performance[:,:,1], axis=1)\n",
    "    else:\n",
    "        meanPerformanceMetaLearnerLow, meanPerformanceMetaLearnerHigh = np.mean(performance[:,:,0], axis=1), np.mean(performance[:,:,1], axis=1)\n"
   ]
  },
  {
   "cell_type": "code",
   "execution_count": 3,
   "metadata": {
    "collapsed": false
   },
   "outputs": [
    {
     "data": {
      "image/png": "[encoded data removed]",
      "text/plain": [
       "<matplotlib.figure.Figure at 0x10ed9f400>"
      ]
     },
     "metadata": {},
     "output_type": "display_data"
    }
   ],
   "source": [
    "plt.figure(3)\n",
    "\n",
    "# The left panel of figure 3:\n",
    "plt.subplot(3,2,1)\n",
    "plt.plot(meanPerformanceRational1Low, color = ((0/255,128/255,128/255,1)), linewidth=1)\n",
    "plt.plot(meanPerformanceRational2Low, color = ((30/255,50/255,255/255,1)), linewidth=1)\n",
    "plt.plot(meanPerformanceRational3Low, color = ((25/255,25/255,112/255,1)), linewidth=1) \n",
    "plt.plot(meanPerformanceMetaLearnerLow, 'm', linewidth=1)\n",
    "\n",
    "plt.title('low reward')\n",
    "plt.axis([0, 800, .45, .8])\n",
    "\n",
    "plt.yticks([.5, .55, .6, .65, .7, .75, .8], ('0.5', '', '0.6', '', '0.7', '', '0.8'))\n",
    "plt.ylabel('p(best choice)')\n",
    "\n",
    "plt.xticks([0, 100, 200, 300, 400, 500, 600, 700, 800], ('0','','','','400','','','','800'))\n",
    "plt.xlabel('trials')\n",
    "\n",
    "\n",
    "# The right panel of figure 3:\n",
    "plt.subplot(3,2,2)\n",
    "plt.plot(meanPerformanceRational1High, color = ((0/255,128/255,128/255,1)), linewidth=1)\n",
    "plt.plot(meanPerformanceRational2High, color = ((30/255,50/255,255/255,1)), linewidth=1)\n",
    "plt.plot(meanPerformanceRational3High, color = ((25/255,25/255,112/255,1)), linewidth=1)\n",
    "plt.plot(meanPerformanceMetaLearnerHigh, 'm', linewidth=1)\n",
    "\n",
    "plt.title('high reward')\n",
    "plt.axis([0, 800, .45, .8])\n",
    "\n",
    "cur_axes = plt.gca()\n",
    "cur_axes.axes.get_yaxis().set_visible(False)\n",
    "\n",
    "plt.xticks([0, 100, 200, 300, 400, 500, 600, 700, 800], ('0','','','','400','','','','800'))\n",
    "plt.xlabel('trials')\n",
    "\n",
    "# The text around the figure:\n",
    "legendToPlot = 'NR'\n",
    "for indexLegend in range(2):\n",
    "    plt.text(.5 , .855 - .11 * indexLegend, legendToPlot[indexLegend], fontsize=12, transform=plt.gcf().transFigure, horizontalalignment='center')\n",
    "    plt.text(.93, .855 - .05 * indexLegend, legendToPlot[indexLegend], fontsize=12, transform=plt.gcf().transFigure, horizontalalignment='center')\n",
    "    \n",
    "plt.savefig('Figure3.png', dpi=150)\n",
    "plt.show()"
   ]
  },
  {
   "cell_type": "code",
   "execution_count": null,
   "metadata": {
    "collapsed": true
   },
   "outputs": [],
   "source": []
  }
 ],
 "metadata": {
  "kernelspec": {
   "display_name": "Python 3",
   "language": "python",
   "name": "python3"
  },
  "language_info": {
   "codemirror_mode": {
    "name": "ipython",
    "version": 3
   },
   "file_extension": ".py",
   "mimetype": "text/x-python",
   "name": "python",
   "nbconvert_exporter": "python",
   "pygments_lexer": "ipython3",
   "version": "3.6.0"
  }
 },
 "nbformat": 4,
 "nbformat_minor": 2
}
